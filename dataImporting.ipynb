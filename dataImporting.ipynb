{
 "cells": [
  {
   "cell_type": "code",
   "execution_count": 82,
   "metadata": {},
   "outputs": [],
   "source": [
    "import cv2 as cv\n",
    "import glob\n",
    "from ipynb.fs.full.facealigner import align\n",
    "import random as rn"
   ]
  },
  {
   "cell_type": "code",
   "execution_count": 169,
   "metadata": {},
   "outputs": [],
   "source": [
    "## Importing OUR indians\n",
    "def glasses():\n",
    "    if (rn.random() > 0.5):\n",
    "        return \"WITHOUT\"\n",
    "    else:\n",
    "        return \"WITH\"\n",
    "    \n",
    "def downsample(images, down_to = 20):\n",
    "    iterator = int(len(images)/down_to)\n",
    "    \n",
    "    output = [images[i*iterator] for i in range(0,down_to)]\n",
    "       \n",
    "    return output\n",
    "    \n",
    "def import_indian(subject):\n",
    "    glass = glasses()\n",
    "    images = [cv.imread(file) for file in glob.glob(subject+\"/LOW/\"+glass+\"/*.jpg\")]\n",
    "    \n",
    "    if (len(images) < 15):\n",
    "\n",
    "        if (glass == \"WITH\"):\n",
    "            glass = \"WITHOUT\"\n",
    "            images = [cv.imread(file) for file in glob.glob(subject+\"/LOW/\"+glass+\"/*.jpg\")]\n",
    "        else:\n",
    "            glass = \"WITH\"\n",
    "            images = [cv.imread(file) for file in glob.glob(subject+\"/LOW/\"+glass+\"/*.jpg\")]\n",
    "    \n",
    "    return [[subject,image] for image in downsample(images)]\n",
    "\n",
    "subjects = [file for file in glob.glob(\"indian_faces/Version2/Session0/*\")]\n",
    "indians = list()\n",
    "for subject in subjects:\n",
    "    tup = import_indian(subject)\n",
    "    for (s,i) in tup:\n",
    "        indians.append([s,i])"
   ]
  },
  {
   "cell_type": "code",
   "execution_count": 172,
   "metadata": {},
   "outputs": [],
   "source": [
    "# Importing the other dataset\n",
    "subjects = [file for file in glob.glob(\"data/*/*\")]\n",
    "data = [[subject,cv.imread(file)] for subject in subjects for file in glob.glob(subject+\"/*.jpg\")]"
   ]
  },
  {
   "cell_type": "code",
   "execution_count": 177,
   "metadata": {},
   "outputs": [],
   "source": [
    "# Addding the two datasets together\n",
    "raw_data = indians + data"
   ]
  },
  {
   "cell_type": "code",
   "execution_count": 200,
   "metadata": {},
   "outputs": [
    {
     "name": "stdout",
     "output_type": "stream",
     "text": [
      "10\n",
      "20\n",
      "30\n"
     ]
    },
    {
     "ename": "KeyboardInterrupt",
     "evalue": "",
     "output_type": "error",
     "traceback": [
      "\u001b[1;31m---------------------------------------------------------------------------\u001b[0m",
      "\u001b[1;31mKeyboardInterrupt\u001b[0m                         Traceback (most recent call last)",
      "\u001b[1;32m<ipython-input-200-23970d348aac>\u001b[0m in \u001b[0;36m<module>\u001b[1;34m\u001b[0m\n\u001b[0;32m     36\u001b[0m         \u001b[0mos\u001b[0m\u001b[1;33m.\u001b[0m\u001b[0mmakedirs\u001b[0m\u001b[1;33m(\u001b[0m\u001b[0mim_PATH\u001b[0m\u001b[1;33m)\u001b[0m\u001b[1;33m\u001b[0m\u001b[1;33m\u001b[0m\u001b[0m\n\u001b[0;32m     37\u001b[0m \u001b[1;33m\u001b[0m\u001b[0m\n\u001b[1;32m---> 38\u001b[1;33m     \u001b[0mcv\u001b[0m\u001b[1;33m.\u001b[0m\u001b[0mimwrite\u001b[0m\u001b[1;33m(\u001b[0m\u001b[0mim_PATH\u001b[0m \u001b[1;33m+\u001b[0m \u001b[0mlabel_counter\u001b[0m \u001b[1;33m+\u001b[0m \u001b[1;34m\".\"\u001b[0m \u001b[1;33m+\u001b[0m \u001b[0mstr\u001b[0m\u001b[1;33m(\u001b[0m\u001b[0mcounter_img\u001b[0m\u001b[1;33m)\u001b[0m \u001b[1;33m+\u001b[0m \u001b[1;34m\".jpg\"\u001b[0m\u001b[1;33m,\u001b[0m\u001b[0malign\u001b[0m\u001b[1;33m(\u001b[0m\u001b[0mimg\u001b[0m\u001b[1;33m)\u001b[0m\u001b[1;33m)\u001b[0m\u001b[1;33m\u001b[0m\u001b[1;33m\u001b[0m\u001b[0m\n\u001b[0m\u001b[0;32m     39\u001b[0m \u001b[1;33m\u001b[0m\u001b[0m\n\u001b[0;32m     40\u001b[0m     \u001b[1;32mif\u001b[0m \u001b[1;33m(\u001b[0m\u001b[0mcounter\u001b[0m\u001b[1;33m%\u001b[0m\u001b[1;36m10\u001b[0m \u001b[1;33m==\u001b[0m \u001b[1;36m0\u001b[0m\u001b[1;33m)\u001b[0m\u001b[1;33m:\u001b[0m\u001b[1;33m\u001b[0m\u001b[1;33m\u001b[0m\u001b[0m\n",
      "\u001b[1;32m~\\Desktop\\Erasmus\\Computer Vision\\facealigner.ipynb\u001b[0m in \u001b[0;36malign\u001b[1;34m(image, shape_predictor)\u001b[0m\n\u001b[0;32m     22\u001b[0m     \u001b[1;34m\"    predictor = dlib.shape_predictor(shape_predictor)\\n\"\u001b[0m\u001b[1;33m,\u001b[0m\u001b[1;33m\u001b[0m\u001b[1;33m\u001b[0m\u001b[0m\n\u001b[0;32m     23\u001b[0m     \u001b[1;34m\"    fa = FaceAligner(predictor, desiredFaceWidth=128, desiredLeftEye=(0.38,0.45))\\n\"\u001b[0m\u001b[1;33m,\u001b[0m\u001b[1;33m\u001b[0m\u001b[1;33m\u001b[0m\u001b[0m\n\u001b[1;32m---> 24\u001b[1;33m     \u001b[1;34m\"\\n\"\u001b[0m\u001b[1;33m,\u001b[0m\u001b[1;33m\u001b[0m\u001b[1;33m\u001b[0m\u001b[0m\n\u001b[0m\u001b[0;32m     25\u001b[0m     \u001b[1;34m\"    # load the input image, resize it, and convert it to grayscale\\n\"\u001b[0m\u001b[1;33m,\u001b[0m\u001b[1;33m\u001b[0m\u001b[1;33m\u001b[0m\u001b[0m\n\u001b[0;32m     26\u001b[0m     \u001b[1;34m\"    image = imutils.resize(image, width=256)\\n\"\u001b[0m\u001b[1;33m,\u001b[0m\u001b[1;33m\u001b[0m\u001b[1;33m\u001b[0m\u001b[0m\n",
      "\u001b[1;31mKeyboardInterrupt\u001b[0m: "
     ]
    }
   ],
   "source": [
    "## RELABEL AND ALIGN EVERYTHING. TIMMYYYYYYYYY\n",
    "def labelify(label):\n",
    "    toint = int(label)\n",
    "    toint += 1\n",
    "    if toint < 10:\n",
    "        return \"00\"+str(toint)\n",
    "    elif toint < 100:\n",
    "        return \"0\"+str(toint)\n",
    "    else:\n",
    "        return str(toint)\n",
    "\n",
    "    \n",
    "    \n",
    "## STORE THE DATAAAAAAAAAAAAAAAAAAA\n",
    "PATH = \"data_al/\"\n",
    "\n",
    "##### NEED TO CREATE THE PATH\n",
    "import os\n",
    "label_counter = \"001\"\n",
    "current_lbl = raw_data[0][0]\n",
    "counter = 0\n",
    "counter_img = 0\n",
    "for (lbl,img) in raw_data:\n",
    "    counter += 1\n",
    "    \n",
    "    if not current_lbl == lbl:\n",
    "        counter_img = 1\n",
    "        current_lbl = lbl\n",
    "        label_counter = labelify(label_counter)\n",
    "    else:\n",
    "        counter_img += 1\n",
    "    \n",
    "    im_PATH = PATH + label_counter + \"/\" \n",
    "\n",
    "    if not os.path.exists(im_PATH):\n",
    "        os.makedirs(im_PATH)\n",
    "    \n",
    "    cv.imwrite(im_PATH + label_counter + \".\" + str(counter_img) + \".jpg\",align(img))    \n",
    "    \n",
    "    if (counter%10 == 0):\n",
    "        print(counter)"
   ]
  }
 ],
 "metadata": {
  "kernelspec": {
   "display_name": "Python 3",
   "language": "python",
   "name": "python3"
  },
  "language_info": {
   "codemirror_mode": {
    "name": "ipython",
    "version": 3
   },
   "file_extension": ".py",
   "mimetype": "text/x-python",
   "name": "python",
   "nbconvert_exporter": "python",
   "pygments_lexer": "ipython3",
   "version": "3.7.3"
  }
 },
 "nbformat": 4,
 "nbformat_minor": 2
}
