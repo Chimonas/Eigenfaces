{
 "cells": [
  {
   "cell_type": "code",
   "execution_count": 4,
   "metadata": {
    "scrolled": true
   },
   "outputs": [],
   "source": [
    "## following the guidelines from https://www.pyimagesearch.com/2017/05/22/face-alignment-with-opencv-and-python/\n",
    "\n",
    "# import the necessary packages\n",
    "from imutils.face_utils import FaceAligner\n",
    "import imutils\n",
    "import dlib\n",
    "import cv2\n",
    "\n",
    "def align(image, shape_predictor = 'shape_predictor_68_face_landmarks.dat'): \n",
    "\n",
    "    detector = dlib.get_frontal_face_detector()\n",
    "    predictor = dlib.shape_predictor(shape_predictor)\n",
    "    fa = FaceAligner(predictor, desiredFaceWidth=128, desiredLeftEye=(0.38,0.45))\n",
    "\n",
    "    # load the input image, resize it, and convert it to grayscale\n",
    "    image = imutils.resize(image, width=256)\n",
    "    gray = cv2.cvtColor(image, cv2.COLOR_BGR2GRAY)\n",
    "\n",
    "    # show the original input image and detect faces in the grayscale\n",
    "    # cv2.imshow(\"Input\", image)\n",
    "    rects = detector(gray, 2)\n",
    "\n",
    "    # loop over the face detections\n",
    "    for rect in rects:\n",
    "        # extract the ROI of the *original* face, then align the face\n",
    "        # using facial landmarks\n",
    "        faceAligned = fa.align(image, gray, rect)\n",
    "\n",
    "        return faceAligned"
   ]
  },
  {
   "cell_type": "code",
   "execution_count": null,
   "metadata": {},
   "outputs": [],
   "source": []
  }
 ],
 "metadata": {
  "kernelspec": {
   "display_name": "Python 3",
   "language": "python",
   "name": "python3"
  },
  "language_info": {
   "codemirror_mode": {
    "name": "ipython",
    "version": 3
   },
   "file_extension": ".py",
   "mimetype": "text/x-python",
   "name": "python",
   "nbconvert_exporter": "python",
   "pygments_lexer": "ipython3",
   "version": "3.7.3"
  }
 },
 "nbformat": 4,
 "nbformat_minor": 2
}
